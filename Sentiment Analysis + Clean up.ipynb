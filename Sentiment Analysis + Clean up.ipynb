{
 "cells": [
  {
   "cell_type": "code",
   "execution_count": 52,
   "metadata": {},
   "outputs": [],
   "source": [
    "#First Walkthrough\n",
    "import networkx as nx\n",
    "import tweepy\n",
    "#from twitter_research_api.json import bearer_token\n",
    "#conda install -c conda-forge tweepy\n",
    "import numpy as np\n",
    "import matplotlib.pyplot as plt\n",
    "import time\n",
    "import csv\n",
    "import pandas as pd\n",
    "\n",
    "\n",
    "\n",
    "import json\n",
    "import nltk\n",
    "# conda install -c conda-forge nltk\n",
    "from nltk.tokenize.toktok import ToktokTokenizer\n",
    "import spacy # natural language processing library\n",
    "# conda install -c conda-forge spacy\n",
    "from datetime import datetime \n",
    "import tweepy\n",
    "import re\n",
    "import string\n",
    "import unicodedata\n",
    "from gensim import corpora\n",
    "# conda install -c conda-forge gensim\n",
    "\n",
    "### Sentiment analysis\n",
    "from textblob import TextBlob\n",
    "# conda install -c conda-forge textblob\n",
    "from vaderSentiment.vaderSentiment import SentimentIntensityAnalyzer\n",
    "# conda install -c conda-forge vaderSentiment"
   ]
  },
  {
   "cell_type": "markdown",
   "metadata": {},
   "source": [
    "### Clean Tweets"
   ]
  },
  {
   "cell_type": "code",
   "execution_count": 53,
   "metadata": {},
   "outputs": [],
   "source": [
    "def clean_tweet(tweet): \n",
    "    processed_tweet = tweet\n",
    "    processed_tweet[\"id\"] = tweet['id']\n",
    "    processed_tweet[\"user\"] = tweet['author_id']\n",
    "    created_at = datetime.strptime(tweet[\"created_at\"],\"%Y-%m-%dT%H:%M:%S.%fZ\")\n",
    "    processed_tweet[\"created_at\"] = created_at\n",
    "    processed_tweet[\"lang\"] = tweet['lang']\n",
    "    \n",
    "    if tweet['lang'] != \"en\":\n",
    "        processed_tweet[\"is_en\"] = False\n",
    "    else: \n",
    "        processed_tweet[\"is_en\"] = True\n",
    "            \n",
    "    return processed_tweet"
   ]
  },
  {
   "cell_type": "code",
   "execution_count": 54,
   "metadata": {},
   "outputs": [
    {
     "data": {
      "text/plain": [
       "922"
      ]
     },
     "execution_count": 54,
     "metadata": {},
     "output_type": "execute_result"
    }
   ],
   "source": [
    "tweet_data_list = json.loads(open('super_olympics.json').read())\n",
    "len(tweet_data_list)"
   ]
  },
  {
   "cell_type": "code",
   "execution_count": 55,
   "metadata": {},
   "outputs": [
    {
     "ename": "TypeError",
     "evalue": "string indices must be integers",
     "output_type": "error",
     "traceback": [
      "\u001b[0;31m---------------------------------------------------------------------------\u001b[0m",
      "\u001b[0;31mTypeError\u001b[0m                                 Traceback (most recent call last)",
      "\u001b[0;32m<ipython-input-55-52f57f3691a3>\u001b[0m in \u001b[0;36m<module>\u001b[0;34m\u001b[0m\n\u001b[1;32m      2\u001b[0m \u001b[0;32mfor\u001b[0m \u001b[0mtdl_item\u001b[0m \u001b[0;32min\u001b[0m \u001b[0mtweet_data_list\u001b[0m\u001b[0;34m:\u001b[0m\u001b[0;34m\u001b[0m\u001b[0;34m\u001b[0m\u001b[0m\n\u001b[1;32m      3\u001b[0m     \u001b[0;32mfor\u001b[0m \u001b[0mtw_group\u001b[0m \u001b[0;32min\u001b[0m \u001b[0mtdl_item\u001b[0m\u001b[0;34m:\u001b[0m\u001b[0;34m\u001b[0m\u001b[0;34m\u001b[0m\u001b[0m\n\u001b[0;32m----> 4\u001b[0;31m         \u001b[0mfiltered_tweet\u001b[0m \u001b[0;34m=\u001b[0m \u001b[0mclean_tweet\u001b[0m\u001b[0;34m(\u001b[0m\u001b[0mtw_group\u001b[0m\u001b[0;34m)\u001b[0m\u001b[0;34m\u001b[0m\u001b[0;34m\u001b[0m\u001b[0m\n\u001b[0m\u001b[1;32m      5\u001b[0m         \u001b[0mfiltered_data\u001b[0m\u001b[0;34m.\u001b[0m\u001b[0mappend\u001b[0m\u001b[0;34m(\u001b[0m\u001b[0mfiltered_tweet\u001b[0m\u001b[0;34m)\u001b[0m\u001b[0;34m\u001b[0m\u001b[0;34m\u001b[0m\u001b[0m\n\u001b[1;32m      6\u001b[0m \u001b[0;34m\u001b[0m\u001b[0m\n",
      "\u001b[0;32m<ipython-input-53-9a061ab5bf98>\u001b[0m in \u001b[0;36mclean_tweet\u001b[0;34m(tweet)\u001b[0m\n\u001b[1;32m      1\u001b[0m \u001b[0;32mdef\u001b[0m \u001b[0mclean_tweet\u001b[0m\u001b[0;34m(\u001b[0m\u001b[0mtweet\u001b[0m\u001b[0;34m)\u001b[0m\u001b[0;34m:\u001b[0m\u001b[0;34m\u001b[0m\u001b[0;34m\u001b[0m\u001b[0m\n\u001b[1;32m      2\u001b[0m     \u001b[0mprocessed_tweet\u001b[0m \u001b[0;34m=\u001b[0m \u001b[0mtweet\u001b[0m\u001b[0;34m\u001b[0m\u001b[0;34m\u001b[0m\u001b[0m\n\u001b[0;32m----> 3\u001b[0;31m     \u001b[0mprocessed_tweet\u001b[0m\u001b[0;34m[\u001b[0m\u001b[0;34m\"id\"\u001b[0m\u001b[0;34m]\u001b[0m \u001b[0;34m=\u001b[0m \u001b[0mtweet\u001b[0m\u001b[0;34m[\u001b[0m\u001b[0;34m'id'\u001b[0m\u001b[0;34m]\u001b[0m\u001b[0;34m\u001b[0m\u001b[0;34m\u001b[0m\u001b[0m\n\u001b[0m\u001b[1;32m      4\u001b[0m     \u001b[0mprocessed_tweet\u001b[0m\u001b[0;34m[\u001b[0m\u001b[0;34m\"user\"\u001b[0m\u001b[0;34m]\u001b[0m \u001b[0;34m=\u001b[0m \u001b[0mtweet\u001b[0m\u001b[0;34m[\u001b[0m\u001b[0;34m'author_id'\u001b[0m\u001b[0;34m]\u001b[0m\u001b[0;34m\u001b[0m\u001b[0;34m\u001b[0m\u001b[0m\n\u001b[1;32m      5\u001b[0m     \u001b[0mcreated_at\u001b[0m \u001b[0;34m=\u001b[0m \u001b[0mdatetime\u001b[0m\u001b[0;34m.\u001b[0m\u001b[0mstrptime\u001b[0m\u001b[0;34m(\u001b[0m\u001b[0mtweet\u001b[0m\u001b[0;34m[\u001b[0m\u001b[0;34m\"created_at\"\u001b[0m\u001b[0;34m]\u001b[0m\u001b[0;34m,\u001b[0m\u001b[0;34m\"%Y-%m-%dT%H:%M:%S.%fZ\"\u001b[0m\u001b[0;34m)\u001b[0m\u001b[0;34m\u001b[0m\u001b[0;34m\u001b[0m\u001b[0m\n",
      "\u001b[0;31mTypeError\u001b[0m: string indices must be integers"
     ]
    }
   ],
   "source": [
    "filtered_data = []\n",
    "for tdl_item in tweet_data_list: \n",
    "    for tw_group in tdl_item:\n",
    "        filtered_tweet = clean_tweet(tw_group)\n",
    "        filtered_data.append(filtered_tweet)\n",
    "        \n",
    "#print first 5\n",
    "filtered_data[0:5]"
   ]
  },
  {
   "cell_type": "code",
   "execution_count": 18,
   "metadata": {},
   "outputs": [],
   "source": [
    "# Re-serialize dates and save raw data\n",
    "clean_official_super_bowl_tweets_scrape3_json = []\n",
    "for fd in filtered_data:\n",
    "    fd['created_at'] = datetime.strftime(fd['created_at'],\"%Y-%m-%dT%H:%M:%S.%fZ\")\n",
    "    clean_official_super_bowl_tweets_scrape3_json.append(fd)\n",
    "with open(\"clean_official_super_bowl_tweets_scrape3.json\", \"w\") as outfile:\n",
    "    json.dump(clean_official_super_bowl_tweets_scrape3s_json, outfile, indent=4)"
   ]
  },
  {
   "cell_type": "markdown",
   "metadata": {},
   "source": [
    "### Process Tweets"
   ]
  },
  {
   "cell_type": "code",
   "execution_count": null,
   "metadata": {},
   "outputs": [],
   "source": [
    "filtered_data = json.loads(open('clean_super_bowl_olympics.json').read())"
   ]
  },
  {
   "cell_type": "code",
   "execution_count": null,
   "metadata": {},
   "outputs": [],
   "source": [
    "# create a list of all the tweet text \n",
    "# we filter out all tweets that are not English\n",
    "tweet_text = []\n",
    "for tweet in filtered_data:\n",
    "    if tweet[\"is_en\"]:\n",
    "        if tweet.get(\"is_rt\"): \n",
    "            tweet_text.append(tweet[\"rt_text\"].replace(\"\\n\", \" \"))\n",
    "        else:\n",
    "            tweet_text.append(tweet[\"text\"].replace(\"\\n\", \" \"))"
   ]
  },
  {
   "cell_type": "code",
   "execution_count": null,
   "metadata": {},
   "outputs": [],
   "source": [
    "# Length of english tweets - see how many were dropped\n",
    "len(tweet_text)"
   ]
  },
  {
   "cell_type": "markdown",
   "metadata": {},
   "source": [
    "### Preprocessing Data"
   ]
  },
  {
   "cell_type": "code",
   "execution_count": null,
   "metadata": {},
   "outputs": [],
   "source": [
    "# remove HTML links, mentions, hashtags, and special characters\n",
    "\n",
    "def strip_links(text):\n",
    "    link_regex    = re.compile('((https?):((//)|(\\\\\\\\))+([\\w\\d:#@%/;$()~_?\\+-=\\\\\\.&](#!)?)*)', re.DOTALL)\n",
    "    links         = re.findall(link_regex, text)\n",
    "    for link in links:\n",
    "        text = text.replace(link[0], ' ')    \n",
    "    return text\n",
    "\n",
    "def strip_mentions(text):\n",
    "    entity_prefixes = ['@']\n",
    "    for separator in  string.punctuation:\n",
    "        if separator not in entity_prefixes :\n",
    "            text = text.replace(separator,' ')\n",
    "    words = []\n",
    "    for word in text.split():\n",
    "        word = word.strip()\n",
    "        if word:\n",
    "            if word[0] not in entity_prefixes:\n",
    "                words.append(word)\n",
    "    return ' '.join(words)\n",
    "\n",
    "def strip_hashtags(text):\n",
    "    entity_prefixes = ['#']\n",
    "    for separator in  string.punctuation:\n",
    "        if separator not in entity_prefixes :\n",
    "            text = text.replace(separator,' ')\n",
    "    words = []\n",
    "    for word in text.split():\n",
    "        word = word.strip()\n",
    "        if word:\n",
    "            if word[0] not in entity_prefixes:\n",
    "                words.append(word)\n",
    "    return ' '.join(words)\n",
    "        \n",
    "def remove_special_characters(text, remove_digits=False):\n",
    "    pattern = r'[^a-zA-z0-9\\s]' if not remove_digits else r'[^a-zA-z\\s]'\n",
    "    text = re.sub(pattern, '', text)\n",
    "    text = unicodedata.normalize('NFKD', text).encode('ascii', 'ignore').decode('utf-8', 'ignore')\n",
    "    return text"
   ]
  },
  {
   "cell_type": "code",
   "execution_count": null,
   "metadata": {},
   "outputs": [],
   "source": [
    "stripped_tweet_text = []\n",
    "for elem in tweet_text:\n",
    "    elem = strip_links(elem)\n",
    "    elem = strip_mentions(elem)\n",
    "    elem = strip_hashtags(elem)\n",
    "    elem = elem.replace('RT', '')\n",
    "    elem = remove_special_characters(elem)\n",
    "    stripped_tweet_text.append(elem)"
   ]
  },
  {
   "cell_type": "code",
   "execution_count": null,
   "metadata": {},
   "outputs": [],
   "source": [
    "#Checking first original tweet:\n",
    "tweet_text[0]"
   ]
  },
  {
   "cell_type": "code",
   "execution_count": null,
   "metadata": {},
   "outputs": [],
   "source": [
    "#Checking first tweet to see if it was cleaned:\n",
    "stripped_tweet_text[0]"
   ]
  },
  {
   "cell_type": "code",
   "execution_count": null,
   "metadata": {},
   "outputs": [],
   "source": [
    "#Checking second original tweet:\n",
    "tweet_text[1]"
   ]
  },
  {
   "cell_type": "code",
   "execution_count": null,
   "metadata": {},
   "outputs": [],
   "source": [
    "#Checking second tweet to see if it was cleaned:\n",
    "stripped_tweet_text[1]"
   ]
  },
  {
   "cell_type": "code",
   "execution_count": null,
   "metadata": {},
   "outputs": [],
   "source": [
    "#Creating a dataframe from the filtered data (when the non english tweets were dropped) and when it was cleaned:\n",
    "data = {'original_tweet_text': tweet_text,\n",
    "        'clean_tweet_text' : stripped_tweet_text}\n",
    "\n",
    "df2 = pd.DataFrame(data)\n",
    "\n",
    "#df2"
   ]
  },
  {
   "cell_type": "code",
   "execution_count": null,
   "metadata": {},
   "outputs": [],
   "source": [
    "df2.to_csv('filtered_super_bowl_olympics_tweets.csv')"
   ]
  },
  {
   "cell_type": "markdown",
   "metadata": {},
   "source": [
    "### Sentiment Analysis"
   ]
  },
  {
   "cell_type": "code",
   "execution_count": null,
   "metadata": {},
   "outputs": [],
   "source": [
    "df2 = pd.read_csv('filtered_super_bowl_olympics_tweets.csv')"
   ]
  },
  {
   "cell_type": "code",
   "execution_count": 4,
   "metadata": {},
   "outputs": [
    {
     "ename": "NameError",
     "evalue": "name 'TextBlob' is not defined",
     "output_type": "error",
     "traceback": [
      "\u001b[0;31m---------------------------------------------------------------------------\u001b[0m",
      "\u001b[0;31mNameError\u001b[0m                                 Traceback (most recent call last)",
      "\u001b[0;32m<ipython-input-4-ec64e4cfb887>\u001b[0m in \u001b[0;36m<module>\u001b[0;34m\u001b[0m\n\u001b[1;32m      9\u001b[0m \u001b[0;34m\u001b[0m\u001b[0m\n\u001b[1;32m     10\u001b[0m \u001b[0;31m#Create two new columns\u001b[0m\u001b[0;34m\u001b[0m\u001b[0;34m\u001b[0m\u001b[0;34m\u001b[0m\u001b[0m\n\u001b[0;32m---> 11\u001b[0;31m \u001b[0mdf\u001b[0m\u001b[0;34m[\u001b[0m\u001b[0;34m'subjectivity'\u001b[0m\u001b[0;34m]\u001b[0m \u001b[0;34m=\u001b[0m \u001b[0mdf\u001b[0m\u001b[0;34m[\u001b[0m\u001b[0;34m'clean_tweet_text'\u001b[0m\u001b[0;34m]\u001b[0m\u001b[0;34m.\u001b[0m\u001b[0mapply\u001b[0m\u001b[0;34m(\u001b[0m\u001b[0mgetSubjectivity\u001b[0m\u001b[0;34m)\u001b[0m\u001b[0;34m\u001b[0m\u001b[0;34m\u001b[0m\u001b[0m\n\u001b[0m\u001b[1;32m     12\u001b[0m \u001b[0mdf\u001b[0m\u001b[0;34m[\u001b[0m\u001b[0;34m'polarity'\u001b[0m\u001b[0;34m]\u001b[0m \u001b[0;34m=\u001b[0m \u001b[0mdf\u001b[0m\u001b[0;34m[\u001b[0m\u001b[0;34m'clean_tweet_text'\u001b[0m\u001b[0;34m]\u001b[0m\u001b[0;34m.\u001b[0m\u001b[0mapply\u001b[0m\u001b[0;34m(\u001b[0m\u001b[0mgetPolarity\u001b[0m\u001b[0;34m)\u001b[0m\u001b[0;34m\u001b[0m\u001b[0;34m\u001b[0m\u001b[0m\n",
      "\u001b[0;32m~/opt/anaconda3/lib/python3.8/site-packages/pandas/core/series.py\u001b[0m in \u001b[0;36mapply\u001b[0;34m(self, func, convert_dtype, args, **kwargs)\u001b[0m\n\u001b[1;32m   4431\u001b[0m         \u001b[0mdtype\u001b[0m\u001b[0;34m:\u001b[0m \u001b[0mfloat64\u001b[0m\u001b[0;34m\u001b[0m\u001b[0;34m\u001b[0m\u001b[0m\n\u001b[1;32m   4432\u001b[0m         \"\"\"\n\u001b[0;32m-> 4433\u001b[0;31m         \u001b[0;32mreturn\u001b[0m \u001b[0mSeriesApply\u001b[0m\u001b[0;34m(\u001b[0m\u001b[0mself\u001b[0m\u001b[0;34m,\u001b[0m \u001b[0mfunc\u001b[0m\u001b[0;34m,\u001b[0m \u001b[0mconvert_dtype\u001b[0m\u001b[0;34m,\u001b[0m \u001b[0margs\u001b[0m\u001b[0;34m,\u001b[0m \u001b[0mkwargs\u001b[0m\u001b[0;34m)\u001b[0m\u001b[0;34m.\u001b[0m\u001b[0mapply\u001b[0m\u001b[0;34m(\u001b[0m\u001b[0;34m)\u001b[0m\u001b[0;34m\u001b[0m\u001b[0;34m\u001b[0m\u001b[0m\n\u001b[0m\u001b[1;32m   4434\u001b[0m \u001b[0;34m\u001b[0m\u001b[0m\n\u001b[1;32m   4435\u001b[0m     def _reduce(\n",
      "\u001b[0;32m~/opt/anaconda3/lib/python3.8/site-packages/pandas/core/apply.py\u001b[0m in \u001b[0;36mapply\u001b[0;34m(self)\u001b[0m\n\u001b[1;32m   1080\u001b[0m             \u001b[0;32mreturn\u001b[0m \u001b[0mself\u001b[0m\u001b[0;34m.\u001b[0m\u001b[0mapply_str\u001b[0m\u001b[0;34m(\u001b[0m\u001b[0;34m)\u001b[0m\u001b[0;34m\u001b[0m\u001b[0;34m\u001b[0m\u001b[0m\n\u001b[1;32m   1081\u001b[0m \u001b[0;34m\u001b[0m\u001b[0m\n\u001b[0;32m-> 1082\u001b[0;31m         \u001b[0;32mreturn\u001b[0m \u001b[0mself\u001b[0m\u001b[0;34m.\u001b[0m\u001b[0mapply_standard\u001b[0m\u001b[0;34m(\u001b[0m\u001b[0;34m)\u001b[0m\u001b[0;34m\u001b[0m\u001b[0;34m\u001b[0m\u001b[0m\n\u001b[0m\u001b[1;32m   1083\u001b[0m \u001b[0;34m\u001b[0m\u001b[0m\n\u001b[1;32m   1084\u001b[0m     \u001b[0;32mdef\u001b[0m \u001b[0magg\u001b[0m\u001b[0;34m(\u001b[0m\u001b[0mself\u001b[0m\u001b[0;34m)\u001b[0m\u001b[0;34m:\u001b[0m\u001b[0;34m\u001b[0m\u001b[0;34m\u001b[0m\u001b[0m\n",
      "\u001b[0;32m~/opt/anaconda3/lib/python3.8/site-packages/pandas/core/apply.py\u001b[0m in \u001b[0;36mapply_standard\u001b[0;34m(self)\u001b[0m\n\u001b[1;32m   1135\u001b[0m                 \u001b[0;31m# List[Union[Callable[..., Any], str]]]]]\"; expected\u001b[0m\u001b[0;34m\u001b[0m\u001b[0;34m\u001b[0m\u001b[0;34m\u001b[0m\u001b[0m\n\u001b[1;32m   1136\u001b[0m                 \u001b[0;31m# \"Callable[[Any], Any]\"\u001b[0m\u001b[0;34m\u001b[0m\u001b[0;34m\u001b[0m\u001b[0;34m\u001b[0m\u001b[0m\n\u001b[0;32m-> 1137\u001b[0;31m                 mapped = lib.map_infer(\n\u001b[0m\u001b[1;32m   1138\u001b[0m                     \u001b[0mvalues\u001b[0m\u001b[0;34m,\u001b[0m\u001b[0;34m\u001b[0m\u001b[0;34m\u001b[0m\u001b[0m\n\u001b[1;32m   1139\u001b[0m                     \u001b[0mf\u001b[0m\u001b[0;34m,\u001b[0m  \u001b[0;31m# type: ignore[arg-type]\u001b[0m\u001b[0;34m\u001b[0m\u001b[0;34m\u001b[0m\u001b[0m\n",
      "\u001b[0;32mpandas/_libs/lib.pyx\u001b[0m in \u001b[0;36mpandas._libs.lib.map_infer\u001b[0;34m()\u001b[0m\n",
      "\u001b[0;32m<ipython-input-4-ec64e4cfb887>\u001b[0m in \u001b[0;36mgetSubjectivity\u001b[0;34m(text)\u001b[0m\n\u001b[1;32m      1\u001b[0m \u001b[0;31m#Subjectivity - tells how subjective or opiniative the text is\u001b[0m\u001b[0;34m\u001b[0m\u001b[0;34m\u001b[0m\u001b[0;34m\u001b[0m\u001b[0m\n\u001b[1;32m      2\u001b[0m \u001b[0;32mdef\u001b[0m \u001b[0mgetSubjectivity\u001b[0m\u001b[0;34m(\u001b[0m\u001b[0mtext\u001b[0m\u001b[0;34m)\u001b[0m\u001b[0;34m:\u001b[0m\u001b[0;34m\u001b[0m\u001b[0;34m\u001b[0m\u001b[0m\n\u001b[0;32m----> 3\u001b[0;31m     \u001b[0;32mreturn\u001b[0m \u001b[0mTextBlob\u001b[0m\u001b[0;34m(\u001b[0m\u001b[0mtext\u001b[0m\u001b[0;34m)\u001b[0m\u001b[0;34m.\u001b[0m\u001b[0msentiment\u001b[0m\u001b[0;34m.\u001b[0m\u001b[0msubjectivity\u001b[0m\u001b[0;34m\u001b[0m\u001b[0;34m\u001b[0m\u001b[0m\n\u001b[0m\u001b[1;32m      4\u001b[0m \u001b[0;34m\u001b[0m\u001b[0m\n\u001b[1;32m      5\u001b[0m \u001b[0;31m#Polarity - tells how positive otr negative the text is\u001b[0m\u001b[0;34m\u001b[0m\u001b[0;34m\u001b[0m\u001b[0;34m\u001b[0m\u001b[0m\n",
      "\u001b[0;31mNameError\u001b[0m: name 'TextBlob' is not defined"
     ]
    }
   ],
   "source": [
    "#Subjectivity - tells how subjective or opiniative the text is\n",
    "def getSubjectivity(text):\n",
    "    return TextBlob(text).sentiment.subjectivity\n",
    "\n",
    "#Polarity - tells how positive otr negative the text is\n",
    "#Create a function to get the polarity\n",
    "def getPolarity(text):\n",
    "    return TextBlob(text).sentiment.polarity\n",
    "\n",
    "#Create two new columns\n",
    "df['subjectivity'] = df['clean_tweet_text'].apply(getSubjectivity)\n",
    "df['polarity'] = df['clean_tweet_text'].apply(getPolarity)"
   ]
  },
  {
   "cell_type": "code",
   "execution_count": 71,
   "metadata": {},
   "outputs": [],
   "source": [
    "#Creating function to classify or label the sentiments as neg, pos, neu.\n",
    "def getSentiment(value):\n",
    "    if value <0:\n",
    "        return 'Negative'\n",
    "    elif value > 0:\n",
    "        return 'Positive'\n",
    "    else:\n",
    "        return 'Neutral'\n",
    "\n",
    "df['sentiment'] = df['polarity'].apply(getSentiment)"
   ]
  },
  {
   "cell_type": "code",
   "execution_count": null,
   "metadata": {},
   "outputs": [],
   "source": [
    "df"
   ]
  },
  {
   "cell_type": "code",
   "execution_count": 29,
   "metadata": {},
   "outputs": [],
   "source": [
    "#df.to_csv('sentiment_analysis_la28_tweets.csv')"
   ]
  },
  {
   "cell_type": "markdown",
   "metadata": {},
   "source": [
    "### Getting Stats"
   ]
  },
  {
   "cell_type": "code",
   "execution_count": 72,
   "metadata": {},
   "outputs": [],
   "source": [
    "###Loading CSV if you want to start at this step\n",
    "df = pd.read_csv('official_subjectivity_polarity_scores_super_olympics_tweets.csv')\n",
    "\n",
    "#df3 = pd.read_csv('super_bowl_olympics.csv')"
   ]
  },
  {
   "cell_type": "code",
   "execution_count": 75,
   "metadata": {},
   "outputs": [],
   "source": [
    "def getSentiment(value):\n",
    "    if value <0:\n",
    "        return 'Negative'\n",
    "    elif value > 0:\n",
    "        return 'Positive'\n",
    "    else:\n",
    "        return 'Neutral'\n",
    "\n",
    "df['sentiment'] = df['polarity'].apply(getSentiment)"
   ]
  },
  {
   "cell_type": "code",
   "execution_count": 89,
   "metadata": {},
   "outputs": [],
   "source": [
    "df.to_csv('sentiment_analysis_super_olympics_tweets.csv')\n",
    "\n"
   ]
  },
  {
   "cell_type": "code",
   "execution_count": 77,
   "metadata": {},
   "outputs": [
    {
     "data": {
      "text/plain": [
       "{'Positive': 559, 'Negative': 269, 'Neutral': 94}"
      ]
     },
     "execution_count": 77,
     "metadata": {},
     "output_type": "execute_result"
    }
   ],
   "source": [
    "# #Counting how many of each sentiment\n",
    "sentiment_count = {}\n",
    "\n",
    "#Converting time stamp data into strings to iterate\n",
    "#Need to assign it to a variable in order to iterate\n",
    "sentiment = df['sentiment'].astype(str)\n",
    "\n",
    "\n",
    "#for column in df['month_year']:\n",
    "for type in sentiment:\n",
    "    #for time in column:\n",
    "    if type in sentiment_count:\n",
    "        sentiment_count[type] += 1\n",
    "    else: \n",
    "        sentiment_count[type] = 1\n",
    "        \n",
    "sentiment_count"
   ]
  },
  {
   "cell_type": "code",
   "execution_count": 78,
   "metadata": {},
   "outputs": [
    {
     "name": "stdout",
     "output_type": "stream",
     "text": [
      "Positive tweets: 60.6 %\n",
      "Negative tweets: 29.2 %\n",
      "Neutral tweets: 10.2 %\n"
     ]
    }
   ],
   "source": [
    "#Gettting Percentage:\n",
    "\n",
    "ptweets_p = df[sentiment == 'Positive']\n",
    "ptweets_p = ptweets_p['clean_tweet_text']\n",
    "\n",
    "#print (\"Positive tweets:\", round((ptweets.shape[0] / df3.shape[0]) *100 , 1))\n",
    "\n",
    "ptweets_n = df[sentiment == 'Negative']\n",
    "ptweets_n = ptweets_n['clean_tweet_text']\n",
    "\n",
    "ptweets_neu = df[sentiment == 'Neutral']\n",
    "ptweets_neu = ptweets_neu['clean_tweet_text']\n",
    "\n",
    "print (\"Positive tweets:\", round((ptweets_p.shape[0] / df.shape[0]) *100 , 1),'%')\n",
    "print (\"Negative tweets:\", round((ptweets_n.shape[0] / df.shape[0]) *100 , 1),'%')\n",
    "print (\"Neutral tweets:\", round((ptweets_neu.shape[0] / df.shape[0]) *100 , 1),'%')"
   ]
  },
  {
   "cell_type": "markdown",
   "metadata": {},
   "source": [
    "### Cleaning up Sentiment Analysis + Deviding up by Sentiment"
   ]
  },
  {
   "cell_type": "code",
   "execution_count": 79,
   "metadata": {},
   "outputs": [],
   "source": [
    "#Creating df's with just one sentiment\n",
    "df2 = df[df.sentiment == 'Positive']\n",
    "df3 = df[df.sentiment == 'Negative']\n",
    "df4 = df[df.sentiment == 'Neutral']"
   ]
  },
  {
   "cell_type": "code",
   "execution_count": 80,
   "metadata": {},
   "outputs": [],
   "source": [
    "# #Run each data frame at a time to double check that the rows dropped correctly\n",
    "#df2\n",
    "#df3\n",
    "#df4\n",
    "\n",
    "# # Saving each to a CSV\n",
    "df2.to_csv('unclean_positive_sentiment_analysis_super_olympics_tweets.csv')\n",
    "df3.to_csv('unclean_negative_sentiment_analysis_super_olympics_tweets.csv')\n",
    "df4.to_csv('unclean_neutral_sentiment_analysis_super_olympics_tweets.csv')"
   ]
  },
  {
   "cell_type": "code",
   "execution_count": 28,
   "metadata": {},
   "outputs": [
    {
     "data": {
      "text/html": [
       "<div>\n",
       "<style scoped>\n",
       "    .dataframe tbody tr th:only-of-type {\n",
       "        vertical-align: middle;\n",
       "    }\n",
       "\n",
       "    .dataframe tbody tr th {\n",
       "        vertical-align: top;\n",
       "    }\n",
       "\n",
       "    .dataframe thead th {\n",
       "        text-align: right;\n",
       "    }\n",
       "</style>\n",
       "<table border=\"1\" class=\"dataframe\">\n",
       "  <thead>\n",
       "    <tr style=\"text-align: right;\">\n",
       "      <th></th>\n",
       "      <th>Unnamed: 0</th>\n",
       "      <th>original_tweet_text</th>\n",
       "      <th>clean_tweet_text</th>\n",
       "      <th>subjectivity</th>\n",
       "      <th>polarity</th>\n",
       "      <th>sentiment</th>\n",
       "    </tr>\n",
       "  </thead>\n",
       "  <tbody>\n",
       "    <tr>\n",
       "      <th>0</th>\n",
       "      <td>0</td>\n",
       "      <td>#TBT to #SuperBowlLVI when we had the honor of...</td>\n",
       "      <td>TBT to SuperBowlLVI when we had the honor of s...</td>\n",
       "      <td>0.666667</td>\n",
       "      <td>0.3333333333333333</td>\n",
       "      <td>Positive</td>\n",
       "    </tr>\n",
       "    <tr>\n",
       "      <th>1</th>\n",
       "      <td>1</td>\n",
       "      <td>#TBT to #SuperBowlLVI when we had the honor of...</td>\n",
       "      <td>TBT to SuperBowlLVI when we had the honor of s...</td>\n",
       "      <td>0.666667</td>\n",
       "      <td>0.3333333333333333</td>\n",
       "      <td>Positive</td>\n",
       "    </tr>\n",
       "    <tr>\n",
       "      <th>4</th>\n",
       "      <td>4</td>\n",
       "      <td>#TBT to #SuperBowlLVI when we had the honor of...</td>\n",
       "      <td>TBT to SuperBowlLVI when we had the honor of s...</td>\n",
       "      <td>0.666667</td>\n",
       "      <td>0.3333333333333333</td>\n",
       "      <td>Positive</td>\n",
       "    </tr>\n",
       "    <tr>\n",
       "      <th>5</th>\n",
       "      <td>5</td>\n",
       "      <td>The 2022 Super Bowl brought a capacity crowd o...</td>\n",
       "      <td>The 2022 Super Bowl brought a capacity crowd o...</td>\n",
       "      <td>0.541667</td>\n",
       "      <td>0.008333333333333304</td>\n",
       "      <td>Positive</td>\n",
       "    </tr>\n",
       "    <tr>\n",
       "      <th>6</th>\n",
       "      <td>6</td>\n",
       "      <td>Princess was left at a police station with a n...</td>\n",
       "      <td>Princess was left at a police station with a n...</td>\n",
       "      <td>0.300000</td>\n",
       "      <td>0.025000000000000005</td>\n",
       "      <td>Positive</td>\n",
       "    </tr>\n",
       "    <tr>\n",
       "      <th>...</th>\n",
       "      <td>...</td>\n",
       "      <td>...</td>\n",
       "      <td>...</td>\n",
       "      <td>...</td>\n",
       "      <td>...</td>\n",
       "      <td>...</td>\n",
       "    </tr>\n",
       "    <tr>\n",
       "      <th>274518</th>\n",
       "      <td>274012</td>\n",
       "      <td>Big shoutout to @KatStryker111 for always putt...</td>\n",
       "      <td>Big shoutout to for always putting in so much ...</td>\n",
       "      <td>0.491667</td>\n",
       "      <td>0.133333</td>\n",
       "      <td>Positive</td>\n",
       "    </tr>\n",
       "    <tr>\n",
       "      <th>274519</th>\n",
       "      <td>274013</td>\n",
       "      <td>Big shoutout to @KatStryker111 for always putt...</td>\n",
       "      <td>Big shoutout to for always putting in so much ...</td>\n",
       "      <td>0.491667</td>\n",
       "      <td>0.133333</td>\n",
       "      <td>Positive</td>\n",
       "    </tr>\n",
       "    <tr>\n",
       "      <th>274520</th>\n",
       "      <td>274014</td>\n",
       "      <td>Playoff push hype joint time, #BillsMafia - en...</td>\n",
       "      <td>Playoff push hype joint time BillsMafia enjoy ...</td>\n",
       "      <td>0.525000</td>\n",
       "      <td>0.375</td>\n",
       "      <td>Positive</td>\n",
       "    </tr>\n",
       "    <tr>\n",
       "      <th>274521</th>\n",
       "      <td>274015</td>\n",
       "      <td>Playoff push hype joint time, #BillsMafia - en...</td>\n",
       "      <td>Playoff push hype joint time BillsMafia enjoy ...</td>\n",
       "      <td>0.525000</td>\n",
       "      <td>0.375</td>\n",
       "      <td>Positive</td>\n",
       "    </tr>\n",
       "    <tr>\n",
       "      <th>274522</th>\n",
       "      <td>274016</td>\n",
       "      <td>Win two #SuperBowlLVI tickets plus two @JetBlu...</td>\n",
       "      <td>Win two SuperBowlLVI tickets plus two roundtri...</td>\n",
       "      <td>0.450000</td>\n",
       "      <td>0.65</td>\n",
       "      <td>Positive</td>\n",
       "    </tr>\n",
       "  </tbody>\n",
       "</table>\n",
       "<p>171625 rows × 6 columns</p>\n",
       "</div>"
      ],
      "text/plain": [
       "       Unnamed: 0                                original_tweet_text  \\\n",
       "0               0  #TBT to #SuperBowlLVI when we had the honor of...   \n",
       "1               1  #TBT to #SuperBowlLVI when we had the honor of...   \n",
       "4               4  #TBT to #SuperBowlLVI when we had the honor of...   \n",
       "5               5  The 2022 Super Bowl brought a capacity crowd o...   \n",
       "6               6  Princess was left at a police station with a n...   \n",
       "...           ...                                                ...   \n",
       "274518     274012  Big shoutout to @KatStryker111 for always putt...   \n",
       "274519     274013  Big shoutout to @KatStryker111 for always putt...   \n",
       "274520     274014  Playoff push hype joint time, #BillsMafia - en...   \n",
       "274521     274015  Playoff push hype joint time, #BillsMafia - en...   \n",
       "274522     274016  Win two #SuperBowlLVI tickets plus two @JetBlu...   \n",
       "\n",
       "                                         clean_tweet_text  subjectivity  \\\n",
       "0       TBT to SuperBowlLVI when we had the honor of s...      0.666667   \n",
       "1       TBT to SuperBowlLVI when we had the honor of s...      0.666667   \n",
       "4       TBT to SuperBowlLVI when we had the honor of s...      0.666667   \n",
       "5       The 2022 Super Bowl brought a capacity crowd o...      0.541667   \n",
       "6       Princess was left at a police station with a n...      0.300000   \n",
       "...                                                   ...           ...   \n",
       "274518  Big shoutout to for always putting in so much ...      0.491667   \n",
       "274519  Big shoutout to for always putting in so much ...      0.491667   \n",
       "274520  Playoff push hype joint time BillsMafia enjoy ...      0.525000   \n",
       "274521  Playoff push hype joint time BillsMafia enjoy ...      0.525000   \n",
       "274522  Win two SuperBowlLVI tickets plus two roundtri...      0.450000   \n",
       "\n",
       "                    polarity sentiment  \n",
       "0         0.3333333333333333  Positive  \n",
       "1         0.3333333333333333  Positive  \n",
       "4         0.3333333333333333  Positive  \n",
       "5       0.008333333333333304  Positive  \n",
       "6       0.025000000000000005  Positive  \n",
       "...                      ...       ...  \n",
       "274518              0.133333  Positive  \n",
       "274519              0.133333  Positive  \n",
       "274520                 0.375  Positive  \n",
       "274521                 0.375  Positive  \n",
       "274522                  0.65  Positive  \n",
       "\n",
       "[171625 rows x 6 columns]"
      ]
     },
     "execution_count": 28,
     "metadata": {},
     "output_type": "execute_result"
    }
   ],
   "source": [
    "df2"
   ]
  },
  {
   "cell_type": "code",
   "execution_count": 81,
   "metadata": {},
   "outputs": [
    {
     "name": "stderr",
     "output_type": "stream",
     "text": [
      "<ipython-input-81-2c98301aa3c6>:2: SettingWithCopyWarning: \n",
      "A value is trying to be set on a copy of a slice from a DataFrame.\n",
      "Try using .loc[row_indexer,col_indexer] = value instead\n",
      "\n",
      "See the caveats in the documentation: https://pandas.pydata.org/pandas-docs/stable/user_guide/indexing.html#returning-a-view-versus-a-copy\n",
      "  df2['polarity'] = df2['polarity'].astype(float)\n",
      "<ipython-input-81-2c98301aa3c6>:3: SettingWithCopyWarning: \n",
      "A value is trying to be set on a copy of a slice from a DataFrame.\n",
      "Try using .loc[row_indexer,col_indexer] = value instead\n",
      "\n",
      "See the caveats in the documentation: https://pandas.pydata.org/pandas-docs/stable/user_guide/indexing.html#returning-a-view-versus-a-copy\n",
      "  df3['polarity'] = df3['polarity'].astype(float)\n",
      "<ipython-input-81-2c98301aa3c6>:4: SettingWithCopyWarning: \n",
      "A value is trying to be set on a copy of a slice from a DataFrame.\n",
      "Try using .loc[row_indexer,col_indexer] = value instead\n",
      "\n",
      "See the caveats in the documentation: https://pandas.pydata.org/pandas-docs/stable/user_guide/indexing.html#returning-a-view-versus-a-copy\n",
      "  df4['polarity'] = df4['polarity'].astype(float)\n"
     ]
    }
   ],
   "source": [
    "# if you get an error running script because of string and float values\n",
    "df2['polarity'] = df2['polarity'].astype(float)\n",
    "df3['polarity'] = df3['polarity'].astype(float)\n",
    "df4['polarity'] = df4['polarity'].astype(float)\n",
    "# Sorting CSVs by Polarity\n",
    "\n",
    "#Positive - will be sorted by decreasing order\n",
    "df2_sorted = df2.sort_values(['polarity'], ascending=False)\n",
    "\n",
    "#Negative - will be increasing in order because we want to start by most negative\n",
    "df3_sorted = df3.sort_values(['polarity'], ascending=True)\n",
    "\n",
    "#Neutral - can't really be sorted?\n",
    "df4_sorted = df4.sort_values(['polarity'], ascending=True)\n",
    "\n"
   ]
  },
  {
   "cell_type": "code",
   "execution_count": 82,
   "metadata": {},
   "outputs": [],
   "source": [
    "#Dropping Duplicates from each CSV\n",
    "df2_duplicates_dropped = df2_sorted.drop_duplicates(subset='clean_tweet_text', keep = 'first')\n",
    "df3_duplicates_dropped = df3_sorted.drop_duplicates(subset='clean_tweet_text', keep = 'first')\n",
    "df4_duplicates_dropped = df4_sorted.drop_duplicates(subset='clean_tweet_text', keep = 'first')"
   ]
  },
  {
   "cell_type": "code",
   "execution_count": 83,
   "metadata": {},
   "outputs": [],
   "source": [
    "#Writing clean df's to csv\n",
    "#Note: 'clean' means dropped RTs and ordered by polarity \n",
    "df2_duplicates_dropped.to_csv('clean_positive_sentiment_analysis_super_olympics_tweets.csv')\n",
    "df3_duplicates_dropped.to_csv('clean_negative_sentiment_analysis_super_olympics_tweets.csv')\n",
    "df4_duplicates_dropped.to_csv('clean_neutral_sentiment_analysis_super_olympics_tweets.csv')"
   ]
  },
  {
   "cell_type": "code",
   "execution_count": 87,
   "metadata": {},
   "outputs": [
    {
     "data": {
      "text/html": [
       "<div>\n",
       "<style scoped>\n",
       "    .dataframe tbody tr th:only-of-type {\n",
       "        vertical-align: middle;\n",
       "    }\n",
       "\n",
       "    .dataframe tbody tr th {\n",
       "        vertical-align: top;\n",
       "    }\n",
       "\n",
       "    .dataframe thead th {\n",
       "        text-align: right;\n",
       "    }\n",
       "</style>\n",
       "<table border=\"1\" class=\"dataframe\">\n",
       "  <thead>\n",
       "    <tr style=\"text-align: right;\">\n",
       "      <th></th>\n",
       "      <th>Unnamed: 0.1</th>\n",
       "      <th>Unnamed: 0</th>\n",
       "      <th>original_tweet_text</th>\n",
       "      <th>clean_tweet_text</th>\n",
       "      <th>subjectivity</th>\n",
       "      <th>polarity</th>\n",
       "      <th>sentiment</th>\n",
       "    </tr>\n",
       "  </thead>\n",
       "  <tbody>\n",
       "    <tr>\n",
       "      <th>5</th>\n",
       "      <td>5</td>\n",
       "      <td>5</td>\n",
       "      <td>“If you’re partnering with the displacement ma...</td>\n",
       "      <td>If youre partnering with the displacement mach...</td>\n",
       "      <td>0.687500</td>\n",
       "      <td>-0.312500</td>\n",
       "      <td>Negative</td>\n",
       "    </tr>\n",
       "    <tr>\n",
       "      <th>7</th>\n",
       "      <td>7</td>\n",
       "      <td>7</td>\n",
       "      <td>We examined both the social and financial cost...</td>\n",
       "      <td>We examined both the social and financial cost...</td>\n",
       "      <td>0.240278</td>\n",
       "      <td>-0.011111</td>\n",
       "      <td>Negative</td>\n",
       "    </tr>\n",
       "    <tr>\n",
       "      <th>8</th>\n",
       "      <td>8</td>\n",
       "      <td>8</td>\n",
       "      <td>We examined both the social and financial cost...</td>\n",
       "      <td>We examined both the social and financial cost...</td>\n",
       "      <td>0.240278</td>\n",
       "      <td>-0.011111</td>\n",
       "      <td>Negative</td>\n",
       "    </tr>\n",
       "    <tr>\n",
       "      <th>15</th>\n",
       "      <td>15</td>\n",
       "      <td>15</td>\n",
       "      <td>We examined both the social and financial cost...</td>\n",
       "      <td>We examined both the social and financial cost...</td>\n",
       "      <td>0.240278</td>\n",
       "      <td>-0.011111</td>\n",
       "      <td>Negative</td>\n",
       "    </tr>\n",
       "    <tr>\n",
       "      <th>16</th>\n",
       "      <td>16</td>\n",
       "      <td>16</td>\n",
       "      <td>We examined both the social and financial cost...</td>\n",
       "      <td>We examined both the social and financial cost...</td>\n",
       "      <td>0.240278</td>\n",
       "      <td>-0.011111</td>\n",
       "      <td>Negative</td>\n",
       "    </tr>\n",
       "    <tr>\n",
       "      <th>...</th>\n",
       "      <td>...</td>\n",
       "      <td>...</td>\n",
       "      <td>...</td>\n",
       "      <td>...</td>\n",
       "      <td>...</td>\n",
       "      <td>...</td>\n",
       "      <td>...</td>\n",
       "    </tr>\n",
       "    <tr>\n",
       "      <th>909</th>\n",
       "      <td>909</td>\n",
       "      <td>909</td>\n",
       "      <td>#SuperBowlLVI is a mini #LA28, down to the peo...</td>\n",
       "      <td>SuperBowlLVI is a mini LA28 down to the people...</td>\n",
       "      <td>0.288889</td>\n",
       "      <td>-0.155556</td>\n",
       "      <td>Negative</td>\n",
       "    </tr>\n",
       "    <tr>\n",
       "      <th>910</th>\n",
       "      <td>910</td>\n",
       "      <td>910</td>\n",
       "      <td>#SuperBowlLVI is a mini #LA28, down to the peo...</td>\n",
       "      <td>SuperBowlLVI is a mini LA28 down to the people...</td>\n",
       "      <td>0.288889</td>\n",
       "      <td>-0.155556</td>\n",
       "      <td>Negative</td>\n",
       "    </tr>\n",
       "    <tr>\n",
       "      <th>911</th>\n",
       "      <td>911</td>\n",
       "      <td>911</td>\n",
       "      <td>#SuperBowlLVI is a mini #LA28, down to the peo...</td>\n",
       "      <td>SuperBowlLVI is a mini LA28 down to the people...</td>\n",
       "      <td>0.288889</td>\n",
       "      <td>-0.155556</td>\n",
       "      <td>Negative</td>\n",
       "    </tr>\n",
       "    <tr>\n",
       "      <th>912</th>\n",
       "      <td>912</td>\n",
       "      <td>912</td>\n",
       "      <td>#SuperBowlLVI is a mini #LA28, down to the peo...</td>\n",
       "      <td>SuperBowlLVI is a mini LA28 down to the people...</td>\n",
       "      <td>0.288889</td>\n",
       "      <td>-0.155556</td>\n",
       "      <td>Negative</td>\n",
       "    </tr>\n",
       "    <tr>\n",
       "      <th>920</th>\n",
       "      <td>920</td>\n",
       "      <td>920</td>\n",
       "      <td>The people behind the Watts Rams are back with...</td>\n",
       "      <td>The people behind the Watts Rams are back with...</td>\n",
       "      <td>0.366667</td>\n",
       "      <td>-0.016667</td>\n",
       "      <td>Negative</td>\n",
       "    </tr>\n",
       "  </tbody>\n",
       "</table>\n",
       "<p>269 rows × 7 columns</p>\n",
       "</div>"
      ],
      "text/plain": [
       "     Unnamed: 0.1  Unnamed: 0  \\\n",
       "5               5           5   \n",
       "7               7           7   \n",
       "8               8           8   \n",
       "15             15          15   \n",
       "16             16          16   \n",
       "..            ...         ...   \n",
       "909           909         909   \n",
       "910           910         910   \n",
       "911           911         911   \n",
       "912           912         912   \n",
       "920           920         920   \n",
       "\n",
       "                                   original_tweet_text  \\\n",
       "5    “If you’re partnering with the displacement ma...   \n",
       "7    We examined both the social and financial cost...   \n",
       "8    We examined both the social and financial cost...   \n",
       "15   We examined both the social and financial cost...   \n",
       "16   We examined both the social and financial cost...   \n",
       "..                                                 ...   \n",
       "909  #SuperBowlLVI is a mini #LA28, down to the peo...   \n",
       "910  #SuperBowlLVI is a mini #LA28, down to the peo...   \n",
       "911  #SuperBowlLVI is a mini #LA28, down to the peo...   \n",
       "912  #SuperBowlLVI is a mini #LA28, down to the peo...   \n",
       "920  The people behind the Watts Rams are back with...   \n",
       "\n",
       "                                      clean_tweet_text  subjectivity  \\\n",
       "5    If youre partnering with the displacement mach...      0.687500   \n",
       "7    We examined both the social and financial cost...      0.240278   \n",
       "8    We examined both the social and financial cost...      0.240278   \n",
       "15   We examined both the social and financial cost...      0.240278   \n",
       "16   We examined both the social and financial cost...      0.240278   \n",
       "..                                                 ...           ...   \n",
       "909  SuperBowlLVI is a mini LA28 down to the people...      0.288889   \n",
       "910  SuperBowlLVI is a mini LA28 down to the people...      0.288889   \n",
       "911  SuperBowlLVI is a mini LA28 down to the people...      0.288889   \n",
       "912  SuperBowlLVI is a mini LA28 down to the people...      0.288889   \n",
       "920  The people behind the Watts Rams are back with...      0.366667   \n",
       "\n",
       "     polarity sentiment  \n",
       "5   -0.312500  Negative  \n",
       "7   -0.011111  Negative  \n",
       "8   -0.011111  Negative  \n",
       "15  -0.011111  Negative  \n",
       "16  -0.011111  Negative  \n",
       "..        ...       ...  \n",
       "909 -0.155556  Negative  \n",
       "910 -0.155556  Negative  \n",
       "911 -0.155556  Negative  \n",
       "912 -0.155556  Negative  \n",
       "920 -0.016667  Negative  \n",
       "\n",
       "[269 rows x 7 columns]"
      ]
     },
     "execution_count": 87,
     "metadata": {},
     "output_type": "execute_result"
    }
   ],
   "source": [
    "df3"
   ]
  },
  {
   "cell_type": "code",
   "execution_count": 90,
   "metadata": {},
   "outputs": [
    {
     "data": {
      "image/png": "[encoded data removed]",
      "text/plain": [
       "<Figure size 432x288 with 1 Axes>"
      ]
     },
     "metadata": {
      "needs_background": "light"
     },
     "output_type": "display_data"
    }
   ],
   "source": [
    "df['sentiment'].value_counts().plot(kind='bar')\n",
    "plt.title('Super Bowl + LA28')\n",
    "plt.xlabel('Sentiment')\n",
    "plt.ylabel('Number of Tweets')\n",
    "plt.xticks(rotation=0)\n",
    "plt.show\n",
    "\n",
    "plt.savefig(\"super_olympics_tweets_bar_plot.png\")"
   ]
  },
  {
   "cell_type": "code",
   "execution_count": 93,
   "metadata": {},
   "outputs": [
    {
     "data": {
      "image/png": "[encoded data removed]",
      "text/plain": [
       "<Figure size 576x432 with 1 Axes>"
      ]
     },
     "metadata": {
      "needs_background": "light"
     },
     "output_type": "display_data"
    }
   ],
   "source": [
    "#Create a scatter plot of the subjectivity and polarity\n",
    "plt.figure(figsize = (8,6))\n",
    "#for i in range(0, len(df3)):\n",
    "for i in range(0, df.shape[0]):\n",
    "    #plotting the polarity from position i and subjectivity from position i\n",
    "    plt.scatter(df['polarity'][i], df['subjectivity'][i], color = 'blue')\n",
    "plt.title('Super Bowl + Olympic Tweets Scatter Plot')\n",
    "plt.xlabel('Polarity')\n",
    "plt.ylabel('Subjectivity')\n",
    "plt.show\n",
    "\n",
    "plt.savefig(\"sb_olympics_tweets_scatter_plot.png\")"
   ]
  },
  {
   "cell_type": "code",
   "execution_count": null,
   "metadata": {},
   "outputs": [],
   "source": []
  }
 ],
 "metadata": {
  "kernelspec": {
   "display_name": "Python 3",
   "language": "python",
   "name": "python3"
  },
  "language_info": {
   "codemirror_mode": {
    "name": "ipython",
    "version": 3
   },
   "file_extension": ".py",
   "mimetype": "text/x-python",
   "name": "python",
   "nbconvert_exporter": "python",
   "pygments_lexer": "ipython3",
   "version": "3.8.5"
  }
 },
 "nbformat": 4,
 "nbformat_minor": 4
}
